{
 "cells": [
  {
   "cell_type": "code",
   "execution_count": 2,
   "metadata": {},
   "outputs": [
    {
     "name": "stdout",
     "output_type": "stream",
     "text": [
      "     id                                bank\n",
      "4     1                          privatbank\n",
      "22    1                          Privatbank\n",
      "1     2                         oschad bank\n",
      "12    6                            otp bank\n",
      "21   11                     brolbuisnesbank\n",
      "16   12                                 UPB\n",
      "9    15                         ukreximbank\n",
      "3    16                            sberbank\n",
      "13   16                            sberbank\n",
      "28   19                               Nadra\n",
      "53   20                       Platinum bank\n",
      "48   21                           MTB bank \n",
      "32   23                            Pivdenny\n",
      "35   27                        Express bank\n",
      "51   35                          Ukrgazbank\n",
      "36   38                National investments\n",
      "19   40                         Chreschatyk\n",
      "31   43                   Bank credit Dnepr\n",
      "26   51                    UKRBuisness bank\n",
      "20   53   Vseukrainsky bank for development\n",
      "50   56                           Zlatobank\n",
      "55   57                       Buisness bank\n",
      "8    58                  raifizen bank aval\n",
      "54   62                        Diamond bank\n",
      "7    63                          sense bank\n",
      "2    65                           deltabank\n",
      "37   65                           Deltabank\n",
      "29   68                       Pivdencombank\n",
      "25   70                            BTA bank\n",
      "24   73                  finance initiative\n",
      "49   76                        Active bank \n",
      "47   77                      Industrialbank\n",
      "38   78                      Kyivskaya rus \n",
      "27   80                           Mega bank\n",
      "10   81                            vtb bank\n",
      "52   84                          Taskombank\n",
      "56   85                           Idea bank\n",
      "58   97                              Demark\n",
      "44  103             Gorodskoy commerce bank\n",
      "46  110                         Eurogasbank\n",
      "42  123                      Universal Bank\n",
      "6   129                          urksocbank\n",
      "41  135                        forward bank\n",
      "34  138                         Imbeks bank\n",
      "33  141                          Terra bank\n",
      "17  143                      Procredit bank\n",
      "14  147                  finance and credit\n",
      "11  148                                pumb\n",
      "45  149                           Ukrinbank\n",
      "0   151                     credit agricole\n",
      "57  153                         FideComBank\n",
      "23  155                        praveks bank\n",
      "15  156                            VAB bank\n",
      "30  157                          Kredo bank\n",
      "5   159                          ukrsibbank\n",
      "39  160                         Forum Bank \n",
      "43  162                           Akta bank\n",
      "18  209                      Prominvestbank\n",
      "40  229                               Abank\n"
     ]
    }
   ],
   "source": [
    "import pandas as pd\n",
    "\n",
    "# Read the CSV file into a DataFrame\n",
    "df = pd.read_csv('banks.csv')\n",
    "\n",
    "# Sort the DataFrame by the 'id' column\n",
    "df_sorted = df.sort_values('id')\n",
    "\n",
    "# Print the sorted DataFrame\n",
    "print(df_sorted)"
   ]
  },
  {
   "cell_type": "code",
   "execution_count": 3,
   "metadata": {},
   "outputs": [],
   "source": [
    "df_sorted.drop_duplicates(subset='id', keep=False, inplace=True)"
   ]
  },
  {
   "cell_type": "code",
   "execution_count": 4,
   "metadata": {},
   "outputs": [
    {
     "name": "stdout",
     "output_type": "stream",
     "text": [
      "     id                                bank\n",
      "1     2                         oschad bank\n",
      "12    6                            otp bank\n",
      "21   11                     brolbuisnesbank\n",
      "16   12                                 UPB\n",
      "9    15                         ukreximbank\n",
      "28   19                               Nadra\n",
      "53   20                       Platinum bank\n",
      "48   21                           MTB bank \n",
      "32   23                            Pivdenny\n",
      "35   27                        Express bank\n",
      "51   35                          Ukrgazbank\n",
      "36   38                National investments\n",
      "19   40                         Chreschatyk\n",
      "31   43                   Bank credit Dnepr\n",
      "26   51                    UKRBuisness bank\n",
      "20   53   Vseukrainsky bank for development\n",
      "50   56                           Zlatobank\n",
      "55   57                       Buisness bank\n",
      "8    58                  raifizen bank aval\n",
      "54   62                        Diamond bank\n",
      "7    63                          sense bank\n",
      "29   68                       Pivdencombank\n",
      "25   70                            BTA bank\n",
      "24   73                  finance initiative\n",
      "49   76                        Active bank \n",
      "47   77                      Industrialbank\n",
      "38   78                      Kyivskaya rus \n",
      "27   80                           Mega bank\n",
      "10   81                            vtb bank\n",
      "52   84                          Taskombank\n",
      "56   85                           Idea bank\n",
      "58   97                              Demark\n",
      "44  103             Gorodskoy commerce bank\n",
      "46  110                         Eurogasbank\n",
      "42  123                      Universal Bank\n",
      "6   129                          urksocbank\n",
      "41  135                        forward bank\n",
      "34  138                         Imbeks bank\n",
      "33  141                          Terra bank\n",
      "17  143                      Procredit bank\n",
      "14  147                  finance and credit\n",
      "11  148                                pumb\n",
      "45  149                           Ukrinbank\n",
      "0   151                     credit agricole\n",
      "57  153                         FideComBank\n",
      "23  155                        praveks bank\n",
      "15  156                            VAB bank\n",
      "30  157                          Kredo bank\n",
      "5   159                          ukrsibbank\n",
      "39  160                         Forum Bank \n",
      "43  162                           Akta bank\n",
      "18  209                      Prominvestbank\n",
      "40  229                               Abank\n"
     ]
    }
   ],
   "source": [
    "print (df_sorted)"
   ]
  },
  {
   "cell_type": "code",
   "execution_count": 5,
   "metadata": {},
   "outputs": [],
   "source": [
    "df_sorted.to_csv('banks.csv', index=False)"
   ]
  }
 ],
 "metadata": {
  "kernelspec": {
   "display_name": "Python 3",
   "language": "python",
   "name": "python3"
  },
  "language_info": {
   "codemirror_mode": {
    "name": "ipython",
    "version": 3
   },
   "file_extension": ".py",
   "mimetype": "text/x-python",
   "name": "python",
   "nbconvert_exporter": "python",
   "pygments_lexer": "ipython3",
   "version": "3.12.3"
  }
 },
 "nbformat": 4,
 "nbformat_minor": 2
}
