{
 "cells": [
  {
   "cell_type": "code",
   "execution_count": 1,
   "metadata": {},
   "outputs": [],
   "source": [
    "files = ['redacted_data_2013-04-01.csv','redacted_data_2013-07-01.csv','redacted_data_2013-10-01.csv','redacted_data_2014-01-01.csv','redacted_data_2014-04-01.csv','redacted_data_2014-07-01.csv','redacted_data_2014-10-01.csv','redacted_data_2015-01-01.csv','redacted_data_2015-04-01.csv','redacted_data_2015-07-01.csv','redacted_data_2015-10-01.csv','redacted_data_2016-10-01.csv' ]"
   ]
  },
  {
   "cell_type": "code",
   "execution_count": null,
   "metadata": {},
   "outputs": [],
   "source": []
  }
 ],
 "metadata": {
  "kernelspec": {
   "display_name": "Python 3",
   "language": "python",
   "name": "python3"
  },
  "language_info": {
   "codemirror_mode": {
    "name": "ipython",
    "version": 3
   },
   "file_extension": ".py",
   "mimetype": "text/x-python",
   "name": "python",
   "nbconvert_exporter": "python",
   "pygments_lexer": "ipython3",
   "version": "3.12.3"
  }
 },
 "nbformat": 4,
 "nbformat_minor": 2
}
